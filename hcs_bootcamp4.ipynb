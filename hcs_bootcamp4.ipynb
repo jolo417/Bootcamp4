{
 "cells": [
  {
   "cell_type": "code",
   "execution_count": 1,
   "metadata": {},
   "outputs": [],
   "source": [
    "# example code for HCS bootcamp4 2020\n",
    "# Webscraping with BeautifulSoup"
   ]
  },
  {
   "cell_type": "code",
   "execution_count": 13,
   "metadata": {},
   "outputs": [
    {
     "data": {
      "text/plain": [
       "200"
      ]
     },
     "execution_count": 13,
     "metadata": {},
     "output_type": "execute_result"
    }
   ],
   "source": [
    "import requests\n",
    "page = requests.get(\"http://dataquestio.github.io/web-scraping-pages/simple.html\")\n",
    "page.status_code"
   ]
  },
  {
   "cell_type": "code",
   "execution_count": 14,
   "metadata": {},
   "outputs": [
    {
     "data": {
      "text/plain": [
       "b'<!DOCTYPE html>\\n<html>\\n    <head>\\n        <title>A simple example page</title>\\n    </head>\\n    <body>\\n        <p>Here is some simple content for this page.</p>\\n    </body>\\n</html>'"
      ]
     },
     "execution_count": 14,
     "metadata": {},
     "output_type": "execute_result"
    }
   ],
   "source": [
    "page.content"
   ]
  },
  {
   "cell_type": "code",
   "execution_count": 15,
   "metadata": {},
   "outputs": [
    {
     "name": "stdout",
     "output_type": "stream",
     "text": [
      "<!DOCTYPE html>\n",
      "<html>\n",
      " <head>\n",
      "  <title>\n",
      "   A simple example page\n",
      "  </title>\n",
      " </head>\n",
      " <body>\n",
      "  <p>\n",
      "   Here is some simple content for this page.\n",
      "  </p>\n",
      " </body>\n",
      "</html>\n"
     ]
    }
   ],
   "source": [
    "from bs4 import BeautifulSoup\n",
    "soup = BeautifulSoup(page.content, 'html.parser')\n",
    "\n",
    "print(soup.prettify())"
   ]
  },
  {
   "cell_type": "code",
   "execution_count": 16,
   "metadata": {},
   "outputs": [
    {
     "name": "stdout",
     "output_type": "stream",
     "text": [
      "['html', '\\n', <html>\n",
      "<head>\n",
      "<title>A simple example page</title>\n",
      "</head>\n",
      "<body>\n",
      "<p>Here is some simple content for this page.</p>\n",
      "</body>\n",
      "</html>]\n",
      "<title>A simple example page</title>\n",
      "head\n",
      "<p>Here is some simple content for this page.</p>\n"
     ]
    }
   ],
   "source": [
    "print(list(soup.children))\n",
    "print(soup.title)\n",
    "print(soup.title.parent.name)\n",
    "print(soup.p)"
   ]
  },
  {
   "cell_type": "code",
   "execution_count": 17,
   "metadata": {},
   "outputs": [
    {
     "name": "stdout",
     "output_type": "stream",
     "text": [
      "<html>\n",
      "<head>\n",
      "<title>A simple example page</title>\n",
      "</head>\n",
      "<body>\n",
      "<p>Here is some simple content for this page.</p>\n",
      "</body>\n",
      "</html>\n"
     ]
    },
    {
     "data": {
      "text/plain": [
       "['\\n', <head>\n",
       " <title>A simple example page</title>\n",
       " </head>, '\\n', <body>\n",
       " <p>Here is some simple content for this page.</p>\n",
       " </body>, '\\n']"
      ]
     },
     "execution_count": 17,
     "metadata": {},
     "output_type": "execute_result"
    }
   ],
   "source": [
    "html = list(soup.children)[2]\n",
    "print(html)\n",
    "list(html.children)"
   ]
  },
  {
   "cell_type": "code",
   "execution_count": 18,
   "metadata": {},
   "outputs": [
    {
     "data": {
      "text/plain": [
       "'Here is some simple content for this page.'"
      ]
     },
     "execution_count": 18,
     "metadata": {},
     "output_type": "execute_result"
    }
   ],
   "source": [
    "body = list(html.children)[3]\n",
    "list(body.children)\n",
    "p = list(body.children)[1]\n",
    "p.get_text()"
   ]
  },
  {
   "cell_type": "code",
   "execution_count": 19,
   "metadata": {},
   "outputs": [
    {
     "data": {
      "text/plain": [
       "<head>\n",
       "<title>A simple example page</title>\n",
       "</head>"
      ]
     },
     "execution_count": 19,
     "metadata": {},
     "output_type": "execute_result"
    }
   ],
   "source": [
    "soup.find('head')"
   ]
  },
  {
   "cell_type": "code",
   "execution_count": 24,
   "metadata": {},
   "outputs": [
    {
     "name": "stdout",
     "output_type": "stream",
     "text": [
      "<div class=\"tombstone-container\">\n",
      " <p class=\"period-name\">\n",
      "  Tonight\n",
      "  <br/>\n",
      "  <br/>\n",
      " </p>\n",
      " <p>\n",
      "  <img alt=\"Tonight: Increasing clouds, with a low around 53. West southwest wind 5 to 10 mph becoming light  after midnight. \" class=\"forecast-icon\" src=\"newimages/medium/nbkn.png\" title=\"Tonight: Increasing clouds, with a low around 53. West southwest wind 5 to 10 mph becoming light  after midnight. \"/>\n",
      " </p>\n",
      " <p class=\"short-desc\">\n",
      "  Increasing\n",
      "  <br/>\n",
      "  Clouds\n",
      " </p>\n",
      " <p class=\"temp temp-low\">\n",
      "  Low: 53 °F\n",
      " </p>\n",
      "</div>\n"
     ]
    }
   ],
   "source": [
    "# https://www.dataquest.io/blog/web-scraping-tutorial-python/\n",
    "\n",
    "page = requests.get(\"http://forecast.weather.gov/MapClick.php?lat=37.7772&lon=-122.4168\")\n",
    "soup = BeautifulSoup(page.content, 'html.parser')\n",
    "seven_day = soup.find(id=\"seven-day-forecast\")\n",
    "forecast_items = seven_day.find_all(class_=\"tombstone-container\")\n",
    "tonight = forecast_items[0]\n",
    "print(tonight.prettify())\n",
    "\n"
   ]
  },
  {
   "cell_type": "code",
   "execution_count": 25,
   "metadata": {},
   "outputs": [
    {
     "name": "stdout",
     "output_type": "stream",
     "text": [
      "Tonight\n",
      "IncreasingClouds\n",
      "Low: 53 °F\n"
     ]
    }
   ],
   "source": [
    "period = tonight.find(class_=\"period-name\").get_text()\n",
    "short_desc = tonight.find(class_=\"short-desc\").get_text()\n",
    "temp = tonight.find(class_=\"temp\").get_text()\n",
    "print(period)\n",
    "print(short_desc)\n",
    "print(temp)"
   ]
  },
  {
   "cell_type": "code",
   "execution_count": 36,
   "metadata": {},
   "outputs": [
    {
     "name": "stdout",
     "output_type": "stream",
     "text": [
      "200\n",
      "8:00 pm\n",
      "\n",
      "8:00 pm\n",
      "\n",
      "9:00 pm\n",
      "\n",
      "10:00 pm\n",
      "\n",
      "11:00 pm\n",
      "\n",
      "12:00 am\n",
      "1:00 am\n",
      "2:00 am\n",
      "3:00 am\n",
      "4:00 am\n",
      "5:00 am\n",
      "6:00 am\n",
      "7:00 am\n",
      "8:00 am\n",
      "9:00 am\n",
      "10:00 am\n",
      "11:00 am\n",
      "Feels\n",
      "40°\n",
      "38°\n",
      "38°\n",
      "37°\n",
      "37°\n",
      "35°\n",
      "34°\n",
      "34°\n",
      "33°\n",
      "33°\n",
      "33°\n",
      "33°\n",
      "36°\n",
      "41°\n",
      "45°\n",
      "49°\n",
      "[<div class=\"hourly-time\"><span class=\"dsx-date\">8:00 pm</span><icon class=\"icon icon-svg icon-svg-dark icon-partly-cloudy-night icon-29\" classname=\"icon icon-svg icon-svg-dark icon-partly-cloudy-night icon-29\"><svg class=\"svg-partly-cloudy-night\" viewbox=\"0 0 200 200\" xmlns=\"http://www.w3.org/2000/svg\" xmlns:xlink=\"http://www.w3.org/1999/xlink\"><defs><mask id=\"partly-cloudy-night-mask\"><rect fill=\"#FFF\" height=\"100%\" width=\"100%\"></rect><use stroke=\"#000\" stroke-width=\"3\" transform=\"matrix(.6 0 0 .6 49 -26)\" xlink:href=\"#svg-symbol-cloud\"></use></mask></defs><use class=\"svg-moon\" mask=\"url(#partly-cloudy-night-mask)\" transform=\"matrix(1.55 0 0 1.55 -53 28)\" xlink:href=\"#svg-symbol-moon\"></use><use class=\"svg-cloud\" transform=\"matrix(.85 0 0 .82 26 2)\" xlink:href=\"#svg-symbol-cloud\"></use></svg>\n",
      "</icon><div class=\"twc-table-shadow sticky\" classname=\"twc-table-shadow sticky\"></div></div>, <div class=\"hourly-time\"><span class=\"dsx-date\">9:00 pm</span><icon class=\"icon icon-svg icon-svg-dark icon-partly-cloudy-night icon-29\" classname=\"icon icon-svg icon-svg-dark icon-partly-cloudy-night icon-29\"><svg class=\"svg-partly-cloudy-night\" viewbox=\"0 0 200 200\" xmlns=\"http://www.w3.org/2000/svg\" xmlns:xlink=\"http://www.w3.org/1999/xlink\"><defs><mask id=\"partly-cloudy-night-mask\"><rect fill=\"#FFF\" height=\"100%\" width=\"100%\"></rect><use stroke=\"#000\" stroke-width=\"3\" transform=\"matrix(.6 0 0 .6 49 -26)\" xlink:href=\"#svg-symbol-cloud\"></use></mask></defs><use class=\"svg-moon\" mask=\"url(#partly-cloudy-night-mask)\" transform=\"matrix(1.55 0 0 1.55 -53 28)\" xlink:href=\"#svg-symbol-moon\"></use><use class=\"svg-cloud\" transform=\"matrix(.85 0 0 .82 26 2)\" xlink:href=\"#svg-symbol-cloud\"></use></svg>\n",
      "</icon><div class=\"twc-table-shadow sticky\" classname=\"twc-table-shadow sticky\"></div></div>, <div class=\"hourly-time\"><span class=\"dsx-date\">10:00 pm</span><icon class=\"icon icon-svg icon-svg-dark icon-partly-cloudy-night icon-29\" classname=\"icon icon-svg icon-svg-dark icon-partly-cloudy-night icon-29\"><svg class=\"svg-partly-cloudy-night\" viewbox=\"0 0 200 200\" xmlns=\"http://www.w3.org/2000/svg\" xmlns:xlink=\"http://www.w3.org/1999/xlink\"><defs><mask id=\"partly-cloudy-night-mask\"><rect fill=\"#FFF\" height=\"100%\" width=\"100%\"></rect><use stroke=\"#000\" stroke-width=\"3\" transform=\"matrix(.6 0 0 .6 49 -26)\" xlink:href=\"#svg-symbol-cloud\"></use></mask></defs><use class=\"svg-moon\" mask=\"url(#partly-cloudy-night-mask)\" transform=\"matrix(1.55 0 0 1.55 -53 28)\" xlink:href=\"#svg-symbol-moon\"></use><use class=\"svg-cloud\" transform=\"matrix(.85 0 0 .82 26 2)\" xlink:href=\"#svg-symbol-cloud\"></use></svg>\n",
      "</icon><div class=\"twc-table-shadow sticky\" classname=\"twc-table-shadow sticky\"></div></div>, <div class=\"hourly-time\"><span class=\"dsx-date\">11:00 pm</span><icon class=\"icon icon-svg icon-svg-dark icon-mostly-clear-night icon-33\" classname=\"icon icon-svg icon-svg-dark icon-mostly-clear-night icon-33\"><svg class=\"svg-mostly-clear-night svg-night\" viewbox=\"0 0 200 200\" xmlns=\"http://www.w3.org/2000/svg\" xmlns:xlink=\"http://www.w3.org/1999/xlink\"><defs><mask id=\"mostly-clear-night-mask\"><rect fill=\"#FFF\" height=\"100%\" width=\"100%\"></rect><use stroke=\"#000\" stroke-width=\"15\" transform=\"translate(56 19) scale(.27317)\" xlink:href=\"#svg-symbol-cloud\"></use></mask></defs><use class=\"svg-moon\" mask=\"url(#mostly-clear-night-mask)\" transform=\"matrix(2.05 0 0 2.05 -61.5 4.1)\" xlink:href=\"#svg-symbol-moon\"></use><use class=\"svg-cloud\" transform=\"matrix(.56 0 0 .56 52.08 42.56)\" xlink:href=\"#svg-symbol-cloud\"></use></svg>\n",
      "</icon><div class=\"twc-table-shadow sticky\" classname=\"twc-table-shadow sticky\"></div></div>, <div class=\"hourly-time\"><span class=\"dsx-date\">12:00 am</span><icon class=\"icon icon-svg icon-svg-dark icon-clear-night icon-31\" classname=\"icon icon-svg icon-svg-dark icon-clear-night icon-31\"><svg class=\"svg-clear-night svg-night\" viewbox=\"0 0 200 200\" xmlns=\"http://www.w3.org/2000/svg\" xmlns:xlink=\"http://www.w3.org/1999/xlink\"><use class=\"svg-moon\" transform=\"matrix(2.07 0 0 2.07 -72 3)\" xlink:href=\"#svg-symbol-moon\"></use><use class=\"svg-star\" transform=\"translate(-4 -1)\" xlink:href=\"#svg-symbol-star\"></use><use class=\"svg-star\" transform=\"matrix(.8 0 0 .8 62 78)\" xlink:href=\"#svg-symbol-star\"></use></svg></icon><div class=\"twc-table-shadow sticky\" classname=\"twc-table-shadow sticky\"></div></div>, <div class=\"hourly-time\"><span class=\"dsx-date\">1:00 am</span><icon class=\"icon icon-svg icon-svg-dark icon-clear-night icon-31\" classname=\"icon icon-svg icon-svg-dark icon-clear-night icon-31\"><svg class=\"svg-clear-night svg-night\" viewbox=\"0 0 200 200\" xmlns=\"http://www.w3.org/2000/svg\" xmlns:xlink=\"http://www.w3.org/1999/xlink\"><use class=\"svg-moon\" transform=\"matrix(2.07 0 0 2.07 -72 3)\" xlink:href=\"#svg-symbol-moon\"></use><use class=\"svg-star\" transform=\"translate(-4 -1)\" xlink:href=\"#svg-symbol-star\"></use><use class=\"svg-star\" transform=\"matrix(.8 0 0 .8 62 78)\" xlink:href=\"#svg-symbol-star\"></use></svg></icon><div class=\"twc-table-shadow sticky\" classname=\"twc-table-shadow sticky\"></div></div>, <div class=\"hourly-time\"><span class=\"dsx-date\">2:00 am</span><icon class=\"icon icon-svg icon-svg-dark icon-clear-night icon-31\" classname=\"icon icon-svg icon-svg-dark icon-clear-night icon-31\"><svg class=\"svg-clear-night svg-night\" viewbox=\"0 0 200 200\" xmlns=\"http://www.w3.org/2000/svg\" xmlns:xlink=\"http://www.w3.org/1999/xlink\"><use class=\"svg-moon\" transform=\"matrix(2.07 0 0 2.07 -72 3)\" xlink:href=\"#svg-symbol-moon\"></use><use class=\"svg-star\" transform=\"translate(-4 -1)\" xlink:href=\"#svg-symbol-star\"></use><use class=\"svg-star\" transform=\"matrix(.8 0 0 .8 62 78)\" xlink:href=\"#svg-symbol-star\"></use></svg></icon><div class=\"twc-table-shadow sticky\" classname=\"twc-table-shadow sticky\"></div></div>, <div class=\"hourly-time\"><span class=\"dsx-date\">3:00 am</span><icon class=\"icon icon-svg icon-svg-dark icon-clear-night icon-31\" classname=\"icon icon-svg icon-svg-dark icon-clear-night icon-31\"><svg class=\"svg-clear-night svg-night\" viewbox=\"0 0 200 200\" xmlns=\"http://www.w3.org/2000/svg\" xmlns:xlink=\"http://www.w3.org/1999/xlink\"><use class=\"svg-moon\" transform=\"matrix(2.07 0 0 2.07 -72 3)\" xlink:href=\"#svg-symbol-moon\"></use><use class=\"svg-star\" transform=\"translate(-4 -1)\" xlink:href=\"#svg-symbol-star\"></use><use class=\"svg-star\" transform=\"matrix(.8 0 0 .8 62 78)\" xlink:href=\"#svg-symbol-star\"></use></svg></icon><div class=\"twc-table-shadow sticky\" classname=\"twc-table-shadow sticky\"></div></div>, <div class=\"hourly-time\"><span class=\"dsx-date\">4:00 am</span><icon class=\"icon icon-svg icon-svg-dark icon-clear-night icon-31\" classname=\"icon icon-svg icon-svg-dark icon-clear-night icon-31\"><svg class=\"svg-clear-night svg-night\" viewbox=\"0 0 200 200\" xmlns=\"http://www.w3.org/2000/svg\" xmlns:xlink=\"http://www.w3.org/1999/xlink\"><use class=\"svg-moon\" transform=\"matrix(2.07 0 0 2.07 -72 3)\" xlink:href=\"#svg-symbol-moon\"></use><use class=\"svg-star\" transform=\"translate(-4 -1)\" xlink:href=\"#svg-symbol-star\"></use><use class=\"svg-star\" transform=\"matrix(.8 0 0 .8 62 78)\" xlink:href=\"#svg-symbol-star\"></use></svg></icon><div class=\"twc-table-shadow sticky\" classname=\"twc-table-shadow sticky\"></div></div>, <div class=\"hourly-time\"><span class=\"dsx-date\">5:00 am</span><icon class=\"icon icon-svg icon-svg-dark icon-clear-night icon-31\" classname=\"icon icon-svg icon-svg-dark icon-clear-night icon-31\"><svg class=\"svg-clear-night svg-night\" viewbox=\"0 0 200 200\" xmlns=\"http://www.w3.org/2000/svg\" xmlns:xlink=\"http://www.w3.org/1999/xlink\"><use class=\"svg-moon\" transform=\"matrix(2.07 0 0 2.07 -72 3)\" xlink:href=\"#svg-symbol-moon\"></use><use class=\"svg-star\" transform=\"translate(-4 -1)\" xlink:href=\"#svg-symbol-star\"></use><use class=\"svg-star\" transform=\"matrix(.8 0 0 .8 62 78)\" xlink:href=\"#svg-symbol-star\"></use></svg></icon><div class=\"twc-table-shadow sticky\" classname=\"twc-table-shadow sticky\"></div></div>, <div class=\"hourly-time\"><span class=\"dsx-date\">6:00 am</span><icon class=\"icon icon-svg icon-svg-dark icon-clear-night icon-31\" classname=\"icon icon-svg icon-svg-dark icon-clear-night icon-31\"><svg class=\"svg-clear-night svg-night\" viewbox=\"0 0 200 200\" xmlns=\"http://www.w3.org/2000/svg\" xmlns:xlink=\"http://www.w3.org/1999/xlink\"><use class=\"svg-moon\" transform=\"matrix(2.07 0 0 2.07 -72 3)\" xlink:href=\"#svg-symbol-moon\"></use><use class=\"svg-star\" transform=\"translate(-4 -1)\" xlink:href=\"#svg-symbol-star\"></use><use class=\"svg-star\" transform=\"matrix(.8 0 0 .8 62 78)\" xlink:href=\"#svg-symbol-star\"></use></svg></icon><div class=\"twc-table-shadow sticky\" classname=\"twc-table-shadow sticky\"></div></div>, <div class=\"hourly-time\"><span class=\"dsx-date\">7:00 am</span><icon class=\"icon icon-svg icon-svg-dark icon-sunny icon-32\" classname=\"icon icon-svg icon-svg-dark icon-sunny icon-32\"><svg class=\"svg-sunny\" viewbox=\"0 0 200 200\" xmlns=\"http://www.w3.org/2000/svg\" xmlns:xlink=\"http://www.w3.org/1999/xlink\"><use class=\"svg-sun\" xlink:href=\"#svg-symbol-sun\"></use></svg></icon><div class=\"twc-table-shadow sticky\" classname=\"twc-table-shadow sticky\"></div></div>, <div class=\"hourly-time\"><span class=\"dsx-date\">8:00 am</span><icon class=\"icon icon-svg icon-svg-dark icon-sunny icon-32\" classname=\"icon icon-svg icon-svg-dark icon-sunny icon-32\"><svg class=\"svg-sunny\" viewbox=\"0 0 200 200\" xmlns=\"http://www.w3.org/2000/svg\" xmlns:xlink=\"http://www.w3.org/1999/xlink\"><use class=\"svg-sun\" xlink:href=\"#svg-symbol-sun\"></use></svg></icon><div class=\"twc-table-shadow sticky\" classname=\"twc-table-shadow sticky\"></div></div>, <div class=\"hourly-time\"><span class=\"dsx-date\">9:00 am</span><icon class=\"icon icon-svg icon-svg-dark icon-sunny icon-32\" classname=\"icon icon-svg icon-svg-dark icon-sunny icon-32\"><svg class=\"svg-sunny\" viewbox=\"0 0 200 200\" xmlns=\"http://www.w3.org/2000/svg\" xmlns:xlink=\"http://www.w3.org/1999/xlink\"><use class=\"svg-sun\" xlink:href=\"#svg-symbol-sun\"></use></svg></icon><div class=\"twc-table-shadow sticky\" classname=\"twc-table-shadow sticky\"></div></div>, <div class=\"hourly-time\"><span class=\"dsx-date\">10:00 am</span><icon class=\"icon icon-svg icon-svg-dark icon-sunny icon-32\" classname=\"icon icon-svg icon-svg-dark icon-sunny icon-32\"><svg class=\"svg-sunny\" viewbox=\"0 0 200 200\" xmlns=\"http://www.w3.org/2000/svg\" xmlns:xlink=\"http://www.w3.org/1999/xlink\"><use class=\"svg-sun\" xlink:href=\"#svg-symbol-sun\"></use></svg></icon><div class=\"twc-table-shadow sticky\" classname=\"twc-table-shadow sticky\"></div></div>, <div class=\"hourly-time\"><span class=\"dsx-date\">11:00 am</span><icon class=\"icon icon-svg icon-svg-dark icon-sunny icon-32\" classname=\"icon icon-svg icon-svg-dark icon-sunny icon-32\"><svg class=\"svg-sunny\" viewbox=\"0 0 200 200\" xmlns=\"http://www.w3.org/2000/svg\" xmlns:xlink=\"http://www.w3.org/1999/xlink\"><use class=\"svg-sun\" xlink:href=\"#svg-symbol-sun\"></use></svg></icon><div class=\"twc-table-shadow sticky\" classname=\"twc-table-shadow sticky\"></div></div>]\n",
      "[<th class=\"feels\" classname=\"feels\" id=\"feels\">Feels</th>, <td class=\"feels\" classname=\"feels\" data-track-string=\"ls_hourly_ls_hourly_toggle\" headers=\"feels\"><span class=\"\">40<sup>°</sup></span></td>, <td class=\"feels\" classname=\"feels\" data-track-string=\"ls_hourly_ls_hourly_toggle\" headers=\"feels\"><span class=\"\">38<sup>°</sup></span></td>, <td class=\"feels\" classname=\"feels\" data-track-string=\"ls_hourly_ls_hourly_toggle\" headers=\"feels\"><span class=\"\">38<sup>°</sup></span></td>, <td class=\"feels\" classname=\"feels\" data-track-string=\"ls_hourly_ls_hourly_toggle\" headers=\"feels\"><span class=\"\">37<sup>°</sup></span></td>, <td class=\"feels\" classname=\"feels\" data-track-string=\"ls_hourly_ls_hourly_toggle\" headers=\"feels\"><span class=\"\">37<sup>°</sup></span></td>, <td class=\"feels\" classname=\"feels\" data-track-string=\"ls_hourly_ls_hourly_toggle\" headers=\"feels\"><span class=\"\">35<sup>°</sup></span></td>, <td class=\"feels\" classname=\"feels\" data-track-string=\"ls_hourly_ls_hourly_toggle\" headers=\"feels\"><span class=\"\">34<sup>°</sup></span></td>, <td class=\"feels\" classname=\"feels\" data-track-string=\"ls_hourly_ls_hourly_toggle\" headers=\"feels\"><span class=\"\">34<sup>°</sup></span></td>, <td class=\"feels\" classname=\"feels\" data-track-string=\"ls_hourly_ls_hourly_toggle\" headers=\"feels\"><span class=\"\">33<sup>°</sup></span></td>, <td class=\"feels\" classname=\"feels\" data-track-string=\"ls_hourly_ls_hourly_toggle\" headers=\"feels\"><span class=\"\">33<sup>°</sup></span></td>, <td class=\"feels\" classname=\"feels\" data-track-string=\"ls_hourly_ls_hourly_toggle\" headers=\"feels\"><span class=\"\">33<sup>°</sup></span></td>, <td class=\"feels\" classname=\"feels\" data-track-string=\"ls_hourly_ls_hourly_toggle\" headers=\"feels\"><span class=\"\">33<sup>°</sup></span></td>, <td class=\"feels\" classname=\"feels\" data-track-string=\"ls_hourly_ls_hourly_toggle\" headers=\"feels\"><span class=\"\">36<sup>°</sup></span></td>, <td class=\"feels\" classname=\"feels\" data-track-string=\"ls_hourly_ls_hourly_toggle\" headers=\"feels\"><span class=\"\">41<sup>°</sup></span></td>, <td class=\"feels\" classname=\"feels\" data-track-string=\"ls_hourly_ls_hourly_toggle\" headers=\"feels\"><span class=\"\">45<sup>°</sup></span></td>, <td class=\"feels\" classname=\"feels\" data-track-string=\"ls_hourly_ls_hourly_toggle\" headers=\"feels\"><span class=\"\">49<sup>°</sup></span></td>]\n"
     ]
    }
   ],
   "source": [
    "page = requests.get(\"https://weather.com/weather/hourbyhour/l/Port+Chester+NY?canonicalCityId=4a494d16a3410c592980c8f46da25e368919b1e7a47008803ace692fbf8b466a\")\n",
    "print(page.status_code)\n",
    "soup = BeautifulSoup(page.content, 'html.parser')\n",
    "stocks = soup.find(id=\"twc-scrollabe\")\n",
    "item = stocks.find(class_=\"hourly-time\").get_text()\n",
    "print(item)\n",
    "\n",
    "prices = stocks.find_all(class_=\"hourly-time\")\n",
    "for price in prices:\n",
    "     print(price.get_text())\n",
    "        \n",
    "values = stocks.find_all(class_=\"feels\")\n",
    "for value in values:\n",
    "     print(value.get_text())\n",
    "                \n",
    "        \n",
    "print(prices)\n",
    "print(values)\n",
    "\n",
    "# names = []\n",
    "# for i in range(len(prices)):\n",
    "#     names.append(prices[i].find(class_=\"feels\").get_text())\n",
    "\n",
    "# print(names)"
   ]
  },
  {
   "cell_type": "code",
   "execution_count": 22,
   "metadata": {},
   "outputs": [
    {
     "name": "stdout",
     "output_type": "stream",
     "text": [
      "[<a href=\"/stocks/jpm-stock\" title=\"JPMorgan Chase-stock\">JPMorgan Chase</a>]\n"
     ]
    }
   ],
   "source": [
    "# https://docs.python.org/3/library/re.html\n",
    "import re \n",
    "\n",
    "bruh = stocks.find_all('a', text = re.compile(\"JPMorgan\"))\n",
    "print(bruh)"
   ]
  },
  {
   "cell_type": "code",
   "execution_count": 23,
   "metadata": {},
   "outputs": [
    {
     "name": "stdout",
     "output_type": "stream",
     "text": [
      "Lady Antebellum - Hello World - YouTube\n",
      "-----\n",
      "\"Hello, World!\" program - Wikipedia\n",
      "-----\n",
      "Hello World (film) - Wikipedia\n",
      "-----\n",
      "Hello, World! - Learn Python - Free Interactive Python Tutorial\n",
      "-----\n",
      "Hello, World! - Learn Java - Free Interactive Java Tutorial\n",
      "-----\n",
      "Hello World · GitHub Guides\n",
      "-----\n",
      ".NET Tutorial | Hello World in 10 minutes - Microsoft\n",
      "-----\n",
      "The History of 'Hello, World' - HackerRank Blog\n",
      "-----\n"
     ]
    }
   ],
   "source": [
    "# https://stackoverflow.com/questions/47928608/how-to-use-beautifulsoup-to-parse-google-search-results-in-python\n",
    "# quick example of using BeautifulSoup to Google for you \n",
    "\n",
    "import urllib\n",
    "from bs4 import BeautifulSoup\n",
    "import requests\n",
    "import webbrowser\n",
    "\n",
    "text = 'hello world'\n",
    "text = urllib.parse.quote_plus(text)\n",
    "\n",
    "url = 'https://google.com/search?q=' + text\n",
    "\n",
    "response = requests.get(url)\n",
    "\n",
    "with open('output.html', 'wb') as f:\n",
    "    f.write(response.content)\n",
    "webbrowser.open('output.html')\n",
    "\n",
    "soup = BeautifulSoup(response.text, 'html.parser')\n",
    "\n",
    "for g in soup.find_all(class_='BNeawe vvjwJb AP7Wnd'):\n",
    "    print(g.get_text())\n",
    "    print('-----')"
   ]
  },
  {
   "cell_type": "code",
   "execution_count": null,
   "metadata": {},
   "outputs": [],
   "source": []
  }
 ],
 "metadata": {
  "kernelspec": {
   "display_name": "Python 3",
   "language": "python",
   "name": "python3"
  },
  "language_info": {
   "codemirror_mode": {
    "name": "ipython",
    "version": 3
   },
   "file_extension": ".py",
   "mimetype": "text/x-python",
   "name": "python",
   "nbconvert_exporter": "python",
   "pygments_lexer": "ipython3",
   "version": "3.7.4"
  }
 },
 "nbformat": 4,
 "nbformat_minor": 2
}
