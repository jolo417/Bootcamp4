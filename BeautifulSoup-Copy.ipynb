{
 "cells": [
  {
   "cell_type": "code",
   "execution_count": 17,
   "metadata": {},
   "outputs": [],
   "source": [
    "# example code for HCS bootcamp4 2020\n",
    "# Webscraping with BeautifulSoup"
   ]
  },
  {
   "cell_type": "code",
   "execution_count": 18,
   "metadata": {},
   "outputs": [],
   "source": [
    "import requests"
   ]
  },
  {
   "cell_type": "code",
   "execution_count": 19,
   "metadata": {},
   "outputs": [
    {
     "name": "stdout",
     "output_type": "stream",
     "text": [
      "200\n",
      "At these times:\n",
      "\n",
      "\n",
      "4:00 pm\n",
      "5:00 pm\n",
      "6:00 pm\n",
      "7:00 pm\n",
      "8:00 pm\n",
      "9:00 pm\n",
      "10:00 pm\n",
      "11:00 pm\n",
      "12:00 am\n",
      "1:00 am\n",
      "2:00 am\n",
      "3:00 am\n",
      "4:00 am\n",
      "5:00 am\n",
      "6:00 am\n",
      "7:00 am\n",
      "\n",
      "\n",
      "The temperature in Port Chester will be\n",
      "Temp\n",
      "52°\n",
      "51°\n",
      "50°\n",
      "49°\n",
      "49°\n",
      "49°\n",
      "49°\n",
      "50°\n",
      "50°\n",
      "50°\n",
      "50°\n",
      "49°\n",
      "50°\n",
      "50°\n",
      "50°\n",
      "51°\n"
     ]
    }
   ],
   "source": [
    "page = requests.get(\"https://weather.com/weather/hourbyhour/l/c899ca8f2d2b46b8eeedfdc04f9ea77e1b4222d2bc747045a4074727d9a625b3\")\n",
    "print(page.status_code)\n",
    "soup = BeautifulSoup(page.content, 'html.parser')\n",
    "info = soup.find(id=\"twc-scrollabe\")\n",
    "\n",
    "print(\"At these times:\")\n",
    "print(\"\\n\")\n",
    "times = info.find_all(class_=\"hourly-time\")\n",
    "for time in times:\n",
    "     print(time.get_text())\n",
    "      \n",
    "print(\"\\n\")\n",
    "print(\"The temperature in Port Chester will be\")  \n",
    "temps = info.find_all(class_=\"temp\")\n",
    "for temp in temps:\n",
    "     print(temp.get_text())\n",
    "\n",
    "        \n"
   ]
  },
  {
   "cell_type": "code",
   "execution_count": null,
   "metadata": {},
   "outputs": [],
   "source": []
  }
 ],
 "metadata": {
  "kernelspec": {
   "display_name": "Python 3",
   "language": "python",
   "name": "python3"
  },
  "language_info": {
   "codemirror_mode": {
    "name": "ipython",
    "version": 3
   },
   "file_extension": ".py",
   "mimetype": "text/x-python",
   "name": "python",
   "nbconvert_exporter": "python",
   "pygments_lexer": "ipython3",
   "version": "3.7.4"
  }
 },
 "nbformat": 4,
 "nbformat_minor": 2
}
 
