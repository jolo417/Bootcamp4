{
 "cells": [
  {
   "cell_type": "code",
   "execution_count": null,
   "metadata": {},
   "outputs": [],
   "source": [
    "# example code for HCS bootcamp4 2020\n",
    "# Webscraping with BeautifulSoup"
   ]
  },
  {
   "cell_type": "code",
   "execution_count": 20,
   "metadata": {},
   "outputs": [
    {
     "data": {
      "text/plain": [
       "200"
      ]
     },
     "execution_count": 20,
     "metadata": {},
     "output_type": "execute_result"
    }
   ],
   "source": [
    "import requests\n",
    "page = requests.get(\"http://dataquestio.github.io/web-scraping-pages/simple.html\")\n",
    "page.status_code"
   ]
  },
  {
   "cell_type": "code",
   "execution_count": 21,
   "metadata": {},
   "outputs": [
    {
     "data": {
      "text/plain": [
       "b'<!DOCTYPE html>\\n<html>\\n    <head>\\n        <title>A simple example page</title>\\n    </head>\\n    <body>\\n        <p>Here is some simple content for this page.</p>\\n    </body>\\n</html>'"
      ]
     },
     "execution_count": 21,
     "metadata": {},
     "output_type": "execute_result"
    }
   ],
   "source": [
    "page.content"
   ]
  },
  {
   "cell_type": "code",
   "execution_count": 22,
   "metadata": {},
   "outputs": [
    {
     "name": "stdout",
     "output_type": "stream",
     "text": [
      "<!DOCTYPE html>\n",
      "<html>\n",
      " <head>\n",
      "  <title>\n",
      "   A simple example page\n",
      "  </title>\n",
      " </head>\n",
      " <body>\n",
      "  <p>\n",
      "   Here is some simple content for this page.\n",
      "  </p>\n",
      " </body>\n",
      "</html>\n"
     ]
    }
   ],
   "source": [
    "from bs4 import BeautifulSoup\n",
    "soup = BeautifulSoup(page.content, 'html.parser')\n",
    "\n",
    "print(soup.prettify())"
   ]
  },
  {
   "cell_type": "code",
   "execution_count": 23,
   "metadata": {},
   "outputs": [
    {
     "name": "stdout",
     "output_type": "stream",
     "text": [
      "['html', '\\n', <html>\n",
      "<head>\n",
      "<title>A simple example page</title>\n",
      "</head>\n",
      "<body>\n",
      "<p>Here is some simple content for this page.</p>\n",
      "</body>\n",
      "</html>]\n",
      "<title>A simple example page</title>\n",
      "head\n",
      "<p>Here is some simple content for this page.</p>\n"
     ]
    }
   ],
   "source": [
    "print(list(soup.children))\n",
    "print(soup.title)\n",
    "print(soup.title.parent.name)\n",
    "print(soup.p)"
   ]
  },
  {
   "cell_type": "code",
   "execution_count": 24,
   "metadata": {},
   "outputs": [
    {
     "name": "stdout",
     "output_type": "stream",
     "text": [
      "<html>\n",
      "<head>\n",
      "<title>A simple example page</title>\n",
      "</head>\n",
      "<body>\n",
      "<p>Here is some simple content for this page.</p>\n",
      "</body>\n",
      "</html>\n"
     ]
    },
    {
     "data": {
      "text/plain": [
       "['\\n', <head>\n",
       " <title>A simple example page</title>\n",
       " </head>, '\\n', <body>\n",
       " <p>Here is some simple content for this page.</p>\n",
       " </body>, '\\n']"
      ]
     },
     "execution_count": 24,
     "metadata": {},
     "output_type": "execute_result"
    }
   ],
   "source": [
    "html = list(soup.children)[2]\n",
    "print(html)\n",
    "list(html.children)"
   ]
  },
  {
   "cell_type": "code",
   "execution_count": 25,
   "metadata": {},
   "outputs": [
    {
     "data": {
      "text/plain": [
       "'Here is some simple content for this page.'"
      ]
     },
     "execution_count": 25,
     "metadata": {},
     "output_type": "execute_result"
    }
   ],
   "source": [
    "body = list(html.children)[3]\n",
    "list(body.children)\n",
    "p = list(body.children)[1]\n",
    "p.get_text()"
   ]
  },
  {
   "cell_type": "code",
   "execution_count": 26,
   "metadata": {},
   "outputs": [
    {
     "data": {
      "text/plain": [
       "<head>\n",
       "<title>A simple example page</title>\n",
       "</head>"
      ]
     },
     "execution_count": 26,
     "metadata": {},
     "output_type": "execute_result"
    }
   ],
   "source": [
    "soup.find('head')"
   ]
  },
  {
   "cell_type": "code",
   "execution_count": 27,
   "metadata": {},
   "outputs": [
    {
     "name": "stdout",
     "output_type": "stream",
     "text": [
      "<div class=\"tombstone-container\">\n",
      " <p class=\"period-name\">\n",
      "  Today\n",
      "  <br/>\n",
      "  <br/>\n",
      " </p>\n",
      " <p>\n",
      "  <img alt=\"Today: Sunny, with a high near 66. Light south southwest wind becoming west 6 to 11 mph in the afternoon. \" class=\"forecast-icon\" src=\"newimages/medium/few.png\" title=\"Today: Sunny, with a high near 66. Light south southwest wind becoming west 6 to 11 mph in the afternoon. \"/>\n",
      " </p>\n",
      " <p class=\"short-desc\">\n",
      "  Sunny\n",
      " </p>\n",
      " <p class=\"temp temp-high\">\n",
      "  High: 66 °F\n",
      " </p>\n",
      "</div>\n"
     ]
    }
   ],
   "source": [
    "# https://www.dataquest.io/blog/web-scraping-tutorial-python/\n",
    "\n",
    "page = requests.get(\"http://forecast.weather.gov/MapClick.php?lat=37.7772&lon=-122.4168\")\n",
    "soup = BeautifulSoup(page.content, 'html.parser')\n",
    "seven_day = soup.find(id=\"seven-day-forecast\")\n",
    "forecast_items = seven_day.find_all(class_=\"tombstone-container\")\n",
    "tonight = forecast_items[0]\n",
    "print(tonight.prettify())\n",
    "\n"
   ]
  },
  {
   "cell_type": "code",
   "execution_count": 28,
   "metadata": {},
   "outputs": [
    {
     "name": "stdout",
     "output_type": "stream",
     "text": [
      "Today\n",
      "Sunny\n",
      "High: 66 °F\n"
     ]
    }
   ],
   "source": [
    "period = tonight.find(class_=\"period-name\").get_text()\n",
    "short_desc = tonight.find(class_=\"short-desc\").get_text()\n",
    "temp = tonight.find(class_=\"temp\").get_text()\n",
    "print(period)\n",
    "print(short_desc)\n",
    "print(temp)"
   ]
  },
  {
   "cell_type": "code",
   "execution_count": 29,
   "metadata": {},
   "outputs": [
    {
     "name": "stdout",
     "output_type": "stream",
     "text": [
      "200\n",
      "<a href=\"/stocks/wmt-stock\" title=\"Walmart-stock\">Walmart</a>\n",
      "\n",
      "\n",
      "Walmart\n",
      "\n",
      "\n",
      "124.23\n",
      "\n",
      "\n",
      "\n",
      "\n",
      "\n",
      "2.00 %\n",
      "\n",
      "\n",
      "2.43\n",
      "\n",
      "\n",
      "2:39:49 PM\n",
      "\n",
      "\n",
      "\n",
      "\n",
      "Intel\n",
      "\n",
      "\n",
      "57.73\n",
      "\n",
      "\n",
      "\n",
      "\n",
      "\n",
      "1.03 %\n",
      "\n",
      "\n",
      "0.59\n",
      "\n",
      "\n",
      "2:39:47 PM\n",
      "\n",
      "\n",
      "\n",
      "\n",
      "Chevron\n",
      "\n",
      "\n",
      "85.12\n",
      "\n",
      "\n",
      "\n",
      "\n",
      "\n",
      "0.96 %\n",
      "\n",
      "\n",
      "0.81\n",
      "\n",
      "\n",
      "2:39:49 PM\n",
      "\n",
      "\n",
      "\n",
      "\n",
      "Apple\n",
      "\n",
      "\n",
      "269.34\n",
      "\n",
      "\n",
      "\n",
      "\n",
      "\n",
      "0.50 %\n",
      "\n",
      "\n",
      "1.35\n",
      "\n",
      "\n",
      "2:39:49 PM\n",
      "\n",
      "\n",
      "\n",
      "\n",
      "Procter&Gamble\n",
      "\n",
      "\n",
      "114.48\n",
      "\n",
      "\n",
      "\n",
      "\n",
      "\n",
      "-0.16 %\n",
      "\n",
      "\n",
      "-0.18\n",
      "\n",
      "\n",
      "2:39:46 PM\n",
      "\n",
      "\n",
      "\n",
      "\n",
      "JPMorgan Chase\n",
      "\n",
      "\n",
      "98.13\n",
      "\n",
      "\n",
      "\n",
      "\n",
      "\n",
      "-4.51 %\n",
      "\n",
      "\n",
      "-4.63\n",
      "\n",
      "\n",
      "2:35:50 PM\n",
      "\n",
      "\n",
      "\n",
      "\n",
      "American Express\n",
      "\n",
      "\n",
      "90.49\n",
      "\n",
      "\n",
      "\n",
      "\n",
      "\n",
      "-4.57 %\n",
      "\n",
      "\n",
      "-4.33\n",
      "\n",
      "\n",
      "2:35:25 PM\n",
      "\n",
      "\n",
      "\n",
      "\n",
      "Coca-Cola Co\n",
      "\n",
      "\n",
      "46.70\n",
      "\n",
      "\n",
      "\n",
      "\n",
      "\n",
      "-4.70 %\n",
      "\n",
      "\n",
      "-2.31\n",
      "\n",
      "\n",
      "2:35:49 PM\n",
      "\n",
      "\n",
      "\n",
      "\n",
      "Caterpillar\n",
      "\n",
      "\n",
      "114.25\n",
      "\n",
      "\n",
      "\n",
      "\n",
      "\n",
      "-8.62 %\n",
      "\n",
      "\n",
      "-10.78\n",
      "\n",
      "\n",
      "2:35:20 PM\n",
      "\n",
      "\n",
      "[<tr class=\"row-hover\" onclick='window.location.href = \"/stocks/wmt-stock\"'>\n",
      "<td class=\"vmiddle tdFixed topflop_name\">\n",
      "<div class=\"text-nowrap\"><a href=\"/stocks/wmt-stock\" title=\"Walmart-stock\">Walmart</a></div>\n",
      "</td>\n",
      "<td class=\"vmiddle tdFixed\">\n",
      "<div class=\"text-right text-nowrap\">124.23</div>\n",
      "</td>\n",
      "<td class=\"vmiddle tdFixed\">\n",
      "<div class=\"text-center\"><div class=\"image_icon_price_green\"></div></div>\n",
      "</td>\n",
      "<td class=\"vmiddle tdFixed\">\n",
      "<div class=\"text-right text-nowrap\"><span class=\"colorGreen\">2.00 %</span></div>\n",
      "</td>\n",
      "<td class=\"vmiddle tdFixed\">\n",
      "<div class=\"text-right text-nowrap\"><span class=\"colorGreen\">2.43</span></div>\n",
      "</td>\n",
      "<td class=\"vmiddle tdFixed\">\n",
      "<div class=\"text-right text-nowrap\">2:39:49 PM</div>\n",
      "</td>\n",
      "</tr>, <tr class=\"row-hover\" onclick='window.location.href = \"/stocks/intc-stock\"'>\n",
      "<td class=\"vmiddle tdFixed topflop_name\">\n",
      "<div class=\"text-nowrap\"><a href=\"/stocks/intc-stock\" title=\"Intel-stock\">Intel</a></div>\n",
      "</td>\n",
      "<td class=\"vmiddle tdFixed\">\n",
      "<div class=\"text-right text-nowrap\">57.73</div>\n",
      "</td>\n",
      "<td class=\"vmiddle tdFixed\">\n",
      "<div class=\"text-center\"><div class=\"image_icon_price_green\"></div></div>\n",
      "</td>\n",
      "<td class=\"vmiddle tdFixed\">\n",
      "<div class=\"text-right text-nowrap\"><span class=\"colorGreen\">1.03 %</span></div>\n",
      "</td>\n",
      "<td class=\"vmiddle tdFixed\">\n",
      "<div class=\"text-right text-nowrap\"><span class=\"colorGreen\">0.59</span></div>\n",
      "</td>\n",
      "<td class=\"vmiddle tdFixed\">\n",
      "<div class=\"text-right text-nowrap\">2:39:47 PM</div>\n",
      "</td>\n",
      "</tr>, <tr class=\"row-hover\" onclick='window.location.href = \"/stocks/cvx-stock\"'>\n",
      "<td class=\"vmiddle tdFixed topflop_name\">\n",
      "<div class=\"text-nowrap\"><a href=\"/stocks/cvx-stock\" title=\"Chevron-stock\">Chevron</a></div>\n",
      "</td>\n",
      "<td class=\"vmiddle tdFixed\">\n",
      "<div class=\"text-right text-nowrap\">85.12</div>\n",
      "</td>\n",
      "<td class=\"vmiddle tdFixed\">\n",
      "<div class=\"text-center\"><div class=\"image_icon_price_green\"></div></div>\n",
      "</td>\n",
      "<td class=\"vmiddle tdFixed\">\n",
      "<div class=\"text-right text-nowrap\"><span class=\"colorGreen\">0.96 %</span></div>\n",
      "</td>\n",
      "<td class=\"vmiddle tdFixed\">\n",
      "<div class=\"text-right text-nowrap\"><span class=\"colorGreen\">0.81</span></div>\n",
      "</td>\n",
      "<td class=\"vmiddle tdFixed\">\n",
      "<div class=\"text-right text-nowrap\">2:39:49 PM</div>\n",
      "</td>\n",
      "</tr>, <tr class=\"row-hover\" onclick='window.location.href = \"/stocks/aapl-stock\"'>\n",
      "<td class=\"vmiddle tdFixed topflop_name\">\n",
      "<div class=\"text-nowrap\"><a href=\"/stocks/aapl-stock\" title=\"Apple-stock\">Apple</a></div>\n",
      "</td>\n",
      "<td class=\"vmiddle tdFixed\">\n",
      "<div class=\"text-right text-nowrap\">269.34</div>\n",
      "</td>\n",
      "<td class=\"vmiddle tdFixed\">\n",
      "<div class=\"text-center\"><div class=\"image_icon_price_green\"></div></div>\n",
      "</td>\n",
      "<td class=\"vmiddle tdFixed\">\n",
      "<div class=\"text-right text-nowrap\"><span class=\"colorGreen\">0.50 %</span></div>\n",
      "</td>\n",
      "<td class=\"vmiddle tdFixed\">\n",
      "<div class=\"text-right text-nowrap\"><span class=\"colorGreen\">1.35</span></div>\n",
      "</td>\n",
      "<td class=\"vmiddle tdFixed\">\n",
      "<div class=\"text-right text-nowrap\">2:39:49 PM</div>\n",
      "</td>\n",
      "</tr>, <tr class=\"row-hover\" onclick='window.location.href = \"/stocks/pg-stock\"'>\n",
      "<td class=\"vmiddle tdFixed topflop_name\">\n",
      "<div class=\"text-nowrap\"><a href=\"/stocks/pg-stock\" title=\"Procter&amp;Gamble-stock\">Procter&amp;Gamble</a></div>\n",
      "</td>\n",
      "<td class=\"vmiddle tdFixed\">\n",
      "<div class=\"text-right text-nowrap\">114.48</div>\n",
      "</td>\n",
      "<td class=\"vmiddle tdFixed\">\n",
      "<div class=\"text-center\"><div class=\"image_icon_price_red\"></div></div>\n",
      "</td>\n",
      "<td class=\"vmiddle tdFixed\">\n",
      "<div class=\"text-right text-nowrap\"><span class=\"colorRed\">-0.16 %</span></div>\n",
      "</td>\n",
      "<td class=\"vmiddle tdFixed\">\n",
      "<div class=\"text-right text-nowrap\"><span class=\"colorRed\">-0.18</span></div>\n",
      "</td>\n",
      "<td class=\"vmiddle tdFixed\">\n",
      "<div class=\"text-right text-nowrap\">2:39:46 PM</div>\n",
      "</td>\n",
      "</tr>, <tr class=\"row-hover\" onclick='window.location.href = \"/stocks/jpm-stock\"'>\n",
      "<td class=\"vmiddle tdFixed topflop_name\">\n",
      "<div class=\"text-nowrap\"><a href=\"/stocks/jpm-stock\" title=\"JPMorgan Chase-stock\">JPMorgan Chase</a></div>\n",
      "</td>\n",
      "<td class=\"vmiddle tdFixed\">\n",
      "<div class=\"text-right text-nowrap\">98.13</div>\n",
      "</td>\n",
      "<td class=\"vmiddle tdFixed\">\n",
      "<div class=\"text-center\"><div class=\"image_icon_price_red\"></div></div>\n",
      "</td>\n",
      "<td class=\"vmiddle tdFixed\">\n",
      "<div class=\"text-right text-nowrap\"><span class=\"colorRed\">-4.51 %</span></div>\n",
      "</td>\n",
      "<td class=\"vmiddle tdFixed\">\n",
      "<div class=\"text-right text-nowrap\"><span class=\"colorRed\">-4.63</span></div>\n",
      "</td>\n",
      "<td class=\"vmiddle tdFixed\">\n",
      "<div class=\"text-right text-nowrap\">2:35:50 PM</div>\n",
      "</td>\n",
      "</tr>, <tr class=\"row-hover\" onclick='window.location.href = \"/stocks/axp-stock\"'>\n",
      "<td class=\"vmiddle tdFixed topflop_name\">\n",
      "<div class=\"text-nowrap\"><a href=\"/stocks/axp-stock\" title=\"American Express-stock\">American Express</a></div>\n",
      "</td>\n",
      "<td class=\"vmiddle tdFixed\">\n",
      "<div class=\"text-right text-nowrap\">90.49</div>\n",
      "</td>\n",
      "<td class=\"vmiddle tdFixed\">\n",
      "<div class=\"text-center\"><div class=\"image_icon_price_red\"></div></div>\n",
      "</td>\n",
      "<td class=\"vmiddle tdFixed\">\n",
      "<div class=\"text-right text-nowrap\"><span class=\"colorRed\">-4.57 %</span></div>\n",
      "</td>\n",
      "<td class=\"vmiddle tdFixed\">\n",
      "<div class=\"text-right text-nowrap\"><span class=\"colorRed\">-4.33</span></div>\n",
      "</td>\n",
      "<td class=\"vmiddle tdFixed\">\n",
      "<div class=\"text-right text-nowrap\">2:35:25 PM</div>\n",
      "</td>\n",
      "</tr>, <tr class=\"row-hover\" onclick='window.location.href = \"/stocks/ko-stock\"'>\n",
      "<td class=\"vmiddle tdFixed topflop_name\">\n",
      "<div class=\"text-nowrap\"><a href=\"/stocks/ko-stock\" title=\"Coca-Cola Co-stock\">Coca-Cola Co</a></div>\n",
      "</td>\n",
      "<td class=\"vmiddle tdFixed\">\n",
      "<div class=\"text-right text-nowrap\">46.70</div>\n",
      "</td>\n",
      "<td class=\"vmiddle tdFixed\">\n",
      "<div class=\"text-center\"><div class=\"image_icon_price_red\"></div></div>\n",
      "</td>\n",
      "<td class=\"vmiddle tdFixed\">\n",
      "<div class=\"text-right text-nowrap\"><span class=\"colorRed\">-4.70 %</span></div>\n",
      "</td>\n",
      "<td class=\"vmiddle tdFixed\">\n",
      "<div class=\"text-right text-nowrap\"><span class=\"colorRed\">-2.31</span></div>\n",
      "</td>\n",
      "<td class=\"vmiddle tdFixed\">\n",
      "<div class=\"text-right text-nowrap\">2:35:49 PM</div>\n",
      "</td>\n",
      "</tr>, <tr class=\"row-hover\" onclick='window.location.href = \"/stocks/cat-stock\"'>\n",
      "<td class=\"vmiddle tdFixed topflop_name\">\n",
      "<div class=\"text-nowrap\"><a href=\"/stocks/cat-stock\" title=\"Caterpillar-stock\">Caterpillar</a></div>\n",
      "</td>\n",
      "<td class=\"vmiddle tdFixed\">\n",
      "<div class=\"text-right text-nowrap\">114.25</div>\n",
      "</td>\n",
      "<td class=\"vmiddle tdFixed\">\n",
      "<div class=\"text-center\"><div class=\"image_icon_price_red\"></div></div>\n",
      "</td>\n",
      "<td class=\"vmiddle tdFixed\">\n",
      "<div class=\"text-right text-nowrap\"><span class=\"colorRed\">-8.62 %</span></div>\n",
      "</td>\n",
      "<td class=\"vmiddle tdFixed\">\n",
      "<div class=\"text-right text-nowrap\"><span class=\"colorRed\">-10.78</span></div>\n",
      "</td>\n",
      "<td class=\"vmiddle tdFixed\">\n",
      "<div class=\"text-right text-nowrap\">2:35:20 PM</div>\n",
      "</td>\n",
      "</tr>]\n",
      "['Walmart', 'Intel', 'Chevron', 'Apple', 'Procter&Gamble', 'JPMorgan Chase', 'American Express', 'Coca-Cola Co', 'Caterpillar']\n"
     ]
    }
   ],
   "source": [
    "page = requests.get(\"https://markets.businessinsider.com/stocks\")\n",
    "print(page.status_code)\n",
    "soup = BeautifulSoup(page.content, 'html.parser')\n",
    "stocks = soup.find(id=\"shares_topflop_StockPricesSharesTopFlop\")\n",
    "item = stocks.find('a')\n",
    "print(item)\n",
    "\n",
    "prices = stocks.find_all(class_=\"row-hover\")\n",
    "for price in prices:\n",
    "     print(price.get_text())\n",
    "        \n",
    "        \n",
    "print(prices)\n",
    "\n",
    "names = []\n",
    "for i in range(len(prices)):\n",
    "    names.append(prices[i].find('a').get_text())\n",
    "\n",
    "print(names)"
   ]
  },
  {
   "cell_type": "code",
   "execution_count": 30,
   "metadata": {},
   "outputs": [
    {
     "name": "stdout",
     "output_type": "stream",
     "text": [
      "[<a href=\"/stocks/jpm-stock\" title=\"JPMorgan Chase-stock\">JPMorgan Chase</a>]\n"
     ]
    }
   ],
   "source": [
    "# https://docs.python.org/3/library/re.html\n",
    "import re \n",
    "\n",
    "bruh = stocks.find_all('a', text = re.compile(\"JPMorgan\"))\n",
    "print(bruh)"
   ]
  },
  {
   "cell_type": "code",
   "execution_count": 35,
   "metadata": {},
   "outputs": [
    {
     "name": "stdout",
     "output_type": "stream",
     "text": [
      "hello world - YouTube\n",
      "-----\n",
      "Lady Antebellum - Hello World - YouTube\n",
      "-----\n",
      "\"Hello, World!\" program - Wikipedia\n",
      "-----\n",
      "Hello World (film) - Wikipedia\n",
      "-----\n",
      "Hello, World! - Learn Python - Free Interactive Python Tutorial\n",
      "-----\n",
      "Hello World · GitHub Guides\n",
      "-----\n",
      "Hello, World! - Learn Java - Free Interactive Java Tutorial\n",
      "-----\n",
      "Hello World album the first album composed with an artificial ...\n",
      "-----\n",
      "The History of 'Hello, World' - HackerRank Blog\n",
      "-----\n",
      "Hello World - Go by Example\n",
      "-----\n"
     ]
    }
   ],
   "source": [
    "# https://stackoverflow.com/questions/47928608/how-to-use-beautifulsoup-to-parse-google-search-results-in-python\n",
    "# quick example of using BeautifulSoup to Google for you \n",
    "\n",
    "import urllib\n",
    "from bs4 import BeautifulSoup\n",
    "import requests\n",
    "import webbrowser\n",
    "\n",
    "text = 'hello world'\n",
    "text = urllib.parse.quote_plus(text)\n",
    "\n",
    "url = 'https://google.com/search?q=' + text\n",
    "\n",
    "response = requests.get(url)\n",
    "\n",
    "with open('output.html', 'wb') as f:\n",
    "    f.write(response.content)\n",
    "webbrowser.open('output.html')\n",
    "\n",
    "soup = BeautifulSoup(response.text, 'html.parser')\n",
    "\n",
    "for g in soup.find_all(class_='BNeawe vvjwJb AP7Wnd'):\n",
    "    print(g.get_text())\n",
    "    print('-----')"
   ]
  },
  {
   "cell_type": "code",
   "execution_count": null,
   "metadata": {},
   "outputs": [],
   "source": []
  }
 ],
 "metadata": {
  "kernelspec": {
   "display_name": "Python 3",
   "language": "python",
   "name": "python3"
  },
  "language_info": {
   "codemirror_mode": {
    "name": "ipython",
    "version": 3
   },
   "file_extension": ".py",
   "mimetype": "text/x-python",
   "name": "python",
   "nbconvert_exporter": "python",
   "pygments_lexer": "ipython3",
   "version": "3.7.1"
  }
 },
 "nbformat": 4,
 "nbformat_minor": 2
}
